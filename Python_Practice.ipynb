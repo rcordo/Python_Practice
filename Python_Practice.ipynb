{
 "cells": [
  {
   "cell_type": "code",
   "execution_count": 1,
   "id": "f71314fc",
   "metadata": {},
   "outputs": [
    {
     "name": "stdout",
     "output_type": "stream",
     "text": [
      "Practicing with Python\n"
     ]
    }
   ],
   "source": [
    "#Practice with integers, floats, strings, booleans\n",
    "print(\"Practicing with Python\")"
   ]
  },
  {
   "cell_type": "code",
   "execution_count": 2,
   "id": "e07cd6a2",
   "metadata": {},
   "outputs": [
    {
     "name": "stdout",
     "output_type": "stream",
     "text": [
      "Practicing with Python\n"
     ]
    }
   ],
   "source": [
    "#Create a variable x = to Practicing with python\n",
    "x = \"Practicing with Python\"\n",
    "print(x)"
   ]
  },
  {
   "cell_type": "code",
   "execution_count": 3,
   "id": "99ee3e9e",
   "metadata": {},
   "outputs": [
    {
     "data": {
      "text/plain": [
       "str"
      ]
     },
     "execution_count": 3,
     "metadata": {},
     "output_type": "execute_result"
    }
   ],
   "source": [
    "#What type\n",
    "type(x)"
   ]
  },
  {
   "cell_type": "code",
   "execution_count": 7,
   "id": "e7c4a19d",
   "metadata": {},
   "outputs": [
    {
     "ename": "ValueError",
     "evalue": "could not convert string to float: 'Practicing with Python'",
     "output_type": "error",
     "traceback": [
      "\u001b[1;31m---------------------------------------------------------------------------\u001b[0m",
      "\u001b[1;31mValueError\u001b[0m                                Traceback (most recent call last)",
      "Cell \u001b[1;32mIn[7], line 1\u001b[0m\n\u001b[1;32m----> 1\u001b[0m \u001b[38;5;28mfloat\u001b[39m(x)\n",
      "\u001b[1;31mValueError\u001b[0m: could not convert string to float: 'Practicing with Python'"
     ]
    }
   ],
   "source": [
    "#demonstrate that a float can not be converted to a string\n",
    "float(x)"
   ]
  },
  {
   "cell_type": "code",
   "execution_count": 8,
   "id": "1c0f9fb1",
   "metadata": {},
   "outputs": [
    {
     "ename": "ValueError",
     "evalue": "invalid literal for int() with base 10: 'Practicing with Python'",
     "output_type": "error",
     "traceback": [
      "\u001b[1;31m---------------------------------------------------------------------------\u001b[0m",
      "\u001b[1;31mValueError\u001b[0m                                Traceback (most recent call last)",
      "Cell \u001b[1;32mIn[8], line 1\u001b[0m\n\u001b[1;32m----> 1\u001b[0m \u001b[38;5;28mint\u001b[39m(x)\n",
      "\u001b[1;31mValueError\u001b[0m: invalid literal for int() with base 10: 'Practicing with Python'"
     ]
    }
   ],
   "source": [
    "#nor can it be converted to a integer\n",
    "int(x)"
   ]
  },
  {
   "cell_type": "code",
   "execution_count": 9,
   "id": "733bf7d6",
   "metadata": {},
   "outputs": [
    {
     "data": {
      "text/plain": [
       "1.1"
      ]
     },
     "execution_count": 9,
     "metadata": {},
     "output_type": "execute_result"
    }
   ],
   "source": [
    "#Lets try converting floats to integers\n",
    "y = 1.1\n",
    "y"
   ]
  },
  {
   "cell_type": "code",
   "execution_count": 10,
   "id": "95ddb75f",
   "metadata": {},
   "outputs": [
    {
     "data": {
      "text/plain": [
       "float"
      ]
     },
     "execution_count": 10,
     "metadata": {},
     "output_type": "execute_result"
    }
   ],
   "source": [
    "type(y)"
   ]
  },
  {
   "cell_type": "code",
   "execution_count": 11,
   "id": "a961c464",
   "metadata": {},
   "outputs": [
    {
     "data": {
      "text/plain": [
       "1"
      ]
     },
     "execution_count": 11,
     "metadata": {},
     "output_type": "execute_result"
    }
   ],
   "source": [
    "#we can convert a float to an integer but will lose data because we no longer have decimal point\n",
    "int(y)"
   ]
  },
  {
   "cell_type": "code",
   "execution_count": 12,
   "id": "ebbb692b",
   "metadata": {},
   "outputs": [
    {
     "data": {
      "text/plain": [
       "1.1"
      ]
     },
     "execution_count": 12,
     "metadata": {},
     "output_type": "execute_result"
    }
   ],
   "source": [
    "#convert back to a float\n",
    "float(y)"
   ]
  },
  {
   "cell_type": "code",
   "execution_count": 13,
   "id": "fb780a8a",
   "metadata": {},
   "outputs": [
    {
     "data": {
      "text/plain": [
       "'1.1'"
      ]
     },
     "execution_count": 13,
     "metadata": {},
     "output_type": "execute_result"
    }
   ],
   "source": [
    "#unlike strings being converted to int or floats, floats and integers can be turned into strings\n",
    "str(y)"
   ]
  },
  {
   "cell_type": "code",
   "execution_count": 14,
   "id": "1f9d9ac0",
   "metadata": {},
   "outputs": [
    {
     "data": {
      "text/plain": [
       "float"
      ]
     },
     "execution_count": 14,
     "metadata": {},
     "output_type": "execute_result"
    }
   ],
   "source": [
    "type(y)"
   ]
  },
  {
   "cell_type": "code",
   "execution_count": 15,
   "id": "ca20fcad",
   "metadata": {},
   "outputs": [
    {
     "data": {
      "text/plain": [
       "1"
      ]
     },
     "execution_count": 15,
     "metadata": {},
     "output_type": "execute_result"
    }
   ],
   "source": [
    "int(y)"
   ]
  },
  {
   "cell_type": "code",
   "execution_count": 16,
   "id": "aca5d9f6",
   "metadata": {},
   "outputs": [
    {
     "data": {
      "text/plain": [
       "'1.1'"
      ]
     },
     "execution_count": 16,
     "metadata": {},
     "output_type": "execute_result"
    }
   ],
   "source": [
    "str(y)"
   ]
  },
  {
   "cell_type": "code",
   "execution_count": 17,
   "id": "64be9f72",
   "metadata": {},
   "outputs": [
    {
     "data": {
      "text/plain": [
       "True"
      ]
     },
     "execution_count": 17,
     "metadata": {},
     "output_type": "execute_result"
    }
   ],
   "source": [
    "#booleans\n",
    "True"
   ]
  },
  {
   "cell_type": "code",
   "execution_count": 18,
   "id": "e478894e",
   "metadata": {},
   "outputs": [
    {
     "data": {
      "text/plain": [
       "False"
      ]
     },
     "execution_count": 18,
     "metadata": {},
     "output_type": "execute_result"
    }
   ],
   "source": [
    "False"
   ]
  },
  {
   "cell_type": "code",
   "execution_count": 19,
   "id": "d20a17ff",
   "metadata": {},
   "outputs": [
    {
     "data": {
      "text/plain": [
       "bool"
      ]
     },
     "execution_count": 19,
     "metadata": {},
     "output_type": "execute_result"
    }
   ],
   "source": [
    "type(True)"
   ]
  },
  {
   "cell_type": "code",
   "execution_count": 20,
   "id": "c8bc20e3",
   "metadata": {},
   "outputs": [
    {
     "data": {
      "text/plain": [
       "bool"
      ]
     },
     "execution_count": 20,
     "metadata": {},
     "output_type": "execute_result"
    }
   ],
   "source": [
    "type(False)"
   ]
  },
  {
   "cell_type": "code",
   "execution_count": 21,
   "id": "3df2db9a",
   "metadata": {},
   "outputs": [
    {
     "data": {
      "text/plain": [
       "0"
      ]
     },
     "execution_count": 21,
     "metadata": {},
     "output_type": "execute_result"
    }
   ],
   "source": [
    "#booleans can be represented as 1 for True and 0 for False\n",
    "int(False)"
   ]
  },
  {
   "cell_type": "code",
   "execution_count": 22,
   "id": "bd775576",
   "metadata": {},
   "outputs": [
    {
     "data": {
      "text/plain": [
       "1"
      ]
     },
     "execution_count": 22,
     "metadata": {},
     "output_type": "execute_result"
    }
   ],
   "source": [
    "int(True)"
   ]
  },
  {
   "cell_type": "code",
   "execution_count": 23,
   "id": "6c249260",
   "metadata": {},
   "outputs": [
    {
     "data": {
      "text/plain": [
       "0.0"
      ]
     },
     "execution_count": 23,
     "metadata": {},
     "output_type": "execute_result"
    }
   ],
   "source": [
    "float(False)"
   ]
  },
  {
   "cell_type": "code",
   "execution_count": 24,
   "id": "7984343e",
   "metadata": {},
   "outputs": [
    {
     "data": {
      "text/plain": [
       "1.0"
      ]
     },
     "execution_count": 24,
     "metadata": {},
     "output_type": "execute_result"
    }
   ],
   "source": [
    "float(True)"
   ]
  },
  {
   "cell_type": "code",
   "execution_count": 28,
   "id": "a572cf19",
   "metadata": {},
   "outputs": [
    {
     "name": "stdout",
     "output_type": "stream",
     "text": [
      "True False\n"
     ]
    }
   ],
   "source": [
    "x = (True)\n",
    "y = (False)\n",
    "print(x, y)"
   ]
  },
  {
   "cell_type": "code",
   "execution_count": 29,
   "id": "30362967",
   "metadata": {},
   "outputs": [
    {
     "data": {
      "text/plain": [
       "5"
      ]
     },
     "execution_count": 29,
     "metadata": {},
     "output_type": "execute_result"
    }
   ],
   "source": [
    "#Expressions and Variables\n",
    "x = 3 + 2\n",
    "x"
   ]
  },
  {
   "cell_type": "code",
   "execution_count": 30,
   "id": "9c38f1a8",
   "metadata": {},
   "outputs": [
    {
     "data": {
      "text/plain": [
       "18"
      ]
     },
     "execution_count": 30,
     "metadata": {},
     "output_type": "execute_result"
    }
   ],
   "source": [
    "y = 6 * 3\n",
    "y"
   ]
  },
  {
   "cell_type": "code",
   "execution_count": 31,
   "id": "bbe222a9",
   "metadata": {},
   "outputs": [
    {
     "data": {
      "text/plain": [
       "23"
      ]
     },
     "execution_count": 31,
     "metadata": {},
     "output_type": "execute_result"
    }
   ],
   "source": [
    "x + y"
   ]
  },
  {
   "cell_type": "code",
   "execution_count": 32,
   "id": "45ac125a",
   "metadata": {},
   "outputs": [
    {
     "data": {
      "text/plain": [
       "1625"
      ]
     },
     "execution_count": 32,
     "metadata": {},
     "output_type": "execute_result"
    }
   ],
   "source": [
    "x + y * y * x"
   ]
  },
  {
   "cell_type": "code",
   "execution_count": 33,
   "id": "895c4c10",
   "metadata": {},
   "outputs": [
    {
     "data": {
      "text/plain": [
       "0.5"
      ]
     },
     "execution_count": 33,
     "metadata": {},
     "output_type": "execute_result"
    }
   ],
   "source": [
    "3/6"
   ]
  },
  {
   "cell_type": "code",
   "execution_count": 34,
   "id": "12c9e27c",
   "metadata": {},
   "outputs": [
    {
     "data": {
      "text/plain": [
       "0"
      ]
     },
     "execution_count": 34,
     "metadata": {},
     "output_type": "execute_result"
    }
   ],
   "source": [
    "3//6"
   ]
  },
  {
   "cell_type": "code",
   "execution_count": 35,
   "id": "7cd2157e",
   "metadata": {},
   "outputs": [
    {
     "data": {
      "text/plain": [
       "float"
      ]
     },
     "execution_count": 35,
     "metadata": {},
     "output_type": "execute_result"
    }
   ],
   "source": [
    "type(3/6)"
   ]
  },
  {
   "cell_type": "code",
   "execution_count": 36,
   "id": "9746ce5a",
   "metadata": {},
   "outputs": [
    {
     "data": {
      "text/plain": [
       "int"
      ]
     },
     "execution_count": 36,
     "metadata": {},
     "output_type": "execute_result"
    }
   ],
   "source": [
    "# for integer division use double backslash\n",
    "type(3//6)"
   ]
  },
  {
   "cell_type": "code",
   "execution_count": 43,
   "id": "5830c3ac",
   "metadata": {},
   "outputs": [
    {
     "data": {
      "text/plain": [
       "2.3333333333333335"
      ]
     },
     "execution_count": 43,
     "metadata": {},
     "output_type": "execute_result"
    }
   ],
   "source": [
    "#use variables to show x as 28 eggs in this example and use y to calculate how many dozen\n",
    "x = 28\n",
    "y = x/12\n",
    "y"
   ]
  },
  {
   "cell_type": "code",
   "execution_count": 38,
   "id": "938c556a",
   "metadata": {},
   "outputs": [
    {
     "data": {
      "text/plain": [
       "float"
      ]
     },
     "execution_count": 38,
     "metadata": {},
     "output_type": "execute_result"
    }
   ],
   "source": [
    "type(y)\n"
   ]
  },
  {
   "cell_type": "code",
   "execution_count": 39,
   "id": "264bef66",
   "metadata": {},
   "outputs": [
    {
     "data": {
      "text/plain": [
       "2"
      ]
     },
     "execution_count": 39,
     "metadata": {},
     "output_type": "execute_result"
    }
   ],
   "source": [
    "int(y)"
   ]
  },
  {
   "cell_type": "code",
   "execution_count": 97,
   "id": "aea2e064",
   "metadata": {},
   "outputs": [
    {
     "data": {
      "text/plain": [
       "1"
      ]
     },
     "execution_count": 97,
     "metadata": {},
     "output_type": "execute_result"
    }
   ],
   "source": [
    "#example of remainder division\n",
    "21%5"
   ]
  },
  {
   "cell_type": "code",
   "execution_count": 98,
   "id": "76ea1c0b",
   "metadata": {},
   "outputs": [
    {
     "data": {
      "text/plain": [
       "125"
      ]
     },
     "execution_count": 98,
     "metadata": {},
     "output_type": "execute_result"
    }
   ],
   "source": [
    "#example of squared\n",
    "5**3"
   ]
  },
  {
   "cell_type": "code",
   "execution_count": 44,
   "id": "70fa592d",
   "metadata": {},
   "outputs": [
    {
     "data": {
      "text/plain": [
       "'n'"
      ]
     },
     "execution_count": 44,
     "metadata": {},
     "output_type": "execute_result"
    }
   ],
   "source": [
    "#demonstrate utilizing indexing to search a variable containing a string\n",
    "a = \"Learning to use Python\"\n",
    "a[4]"
   ]
  },
  {
   "cell_type": "code",
   "execution_count": 45,
   "id": "de5ea11f",
   "metadata": {},
   "outputs": [
    {
     "data": {
      "text/plain": [
       "'Lea'"
      ]
     },
     "execution_count": 45,
     "metadata": {},
     "output_type": "execute_result"
    }
   ],
   "source": [
    "a[0:3]"
   ]
  },
  {
   "cell_type": "code",
   "execution_count": 46,
   "id": "9d6a428a",
   "metadata": {},
   "outputs": [
    {
     "data": {
      "text/plain": [
       "22"
      ]
     },
     "execution_count": 46,
     "metadata": {},
     "output_type": "execute_result"
    }
   ],
   "source": [
    "len(a)"
   ]
  },
  {
   "cell_type": "code",
   "execution_count": 48,
   "id": "132e9c54",
   "metadata": {},
   "outputs": [
    {
     "data": {
      "text/plain": [
       "'n'"
      ]
     },
     "execution_count": 48,
     "metadata": {},
     "output_type": "execute_result"
    }
   ],
   "source": [
    "a[-1]"
   ]
  },
  {
   "cell_type": "code",
   "execution_count": 51,
   "id": "5eb91346",
   "metadata": {},
   "outputs": [
    {
     "data": {
      "text/plain": [
       "' Python'"
      ]
     },
     "execution_count": 51,
     "metadata": {},
     "output_type": "execute_result"
    }
   ],
   "source": [
    "#utilize slicing to print only Python\n",
    "a[15:22]"
   ]
  },
  {
   "cell_type": "code",
   "execution_count": 53,
   "id": "8111d2c2",
   "metadata": {},
   "outputs": [
    {
     "data": {
      "text/plain": [
       "'Lann ouePto'"
      ]
     },
     "execution_count": 53,
     "metadata": {},
     "output_type": "execute_result"
    }
   ],
   "source": [
    "#get every 2nd element\n",
    "a[::2]"
   ]
  },
  {
   "cell_type": "code",
   "execution_count": 55,
   "id": "8455e382",
   "metadata": {},
   "outputs": [
    {
     "data": {
      "text/plain": [
       "'ouePt'"
      ]
     },
     "execution_count": 55,
     "metadata": {},
     "output_type": "execute_result"
    }
   ],
   "source": [
    "#get every 2nd element from range 10 - 20 \n",
    "a[10:20:2]"
   ]
  },
  {
   "cell_type": "code",
   "execution_count": 76,
   "id": "e7f51eaa",
   "metadata": {},
   "outputs": [
    {
     "data": {
      "text/plain": [
       "\"Learning to use Python hope this doesn't take too long\""
      ]
     },
     "execution_count": 76,
     "metadata": {},
     "output_type": "execute_result"
    }
   ],
   "source": [
    "#Concatenate Strings\n",
    "b = a + \" hope this doesn't take too long\"\n",
    "b"
   ]
  },
  {
   "cell_type": "code",
   "execution_count": 77,
   "id": "49d058ff",
   "metadata": {},
   "outputs": [
    {
     "data": {
      "text/plain": [
       "\"LEARNING TO USE PYTHON HOPE THIS DOESN'T TAKE TOO LONG\""
      ]
     },
     "execution_count": 77,
     "metadata": {},
     "output_type": "execute_result"
    }
   ],
   "source": [
    "b.upper()"
   ]
  },
  {
   "cell_type": "code",
   "execution_count": 78,
   "id": "7151b74c",
   "metadata": {},
   "outputs": [
    {
     "data": {
      "text/plain": [
       "\"learning to use python hope this doesn't take too long\""
      ]
     },
     "execution_count": 78,
     "metadata": {},
     "output_type": "execute_result"
    }
   ],
   "source": [
    "b.lower()"
   ]
  },
  {
   "cell_type": "code",
   "execution_count": 80,
   "id": "4bfed37c",
   "metadata": {},
   "outputs": [
    {
     "name": "stdout",
     "output_type": "stream",
     "text": [
      "Before Upper: Learning to use Python hope this doesn't take too long\n",
      "After Upper: LEARNING TO USE PYTHON HOPE THIS DOESN'T TAKE TOO LONG\n"
     ]
    }
   ],
   "source": [
    "c = b.upper()\n",
    "print(\"Before Upper:\", b)\n",
    "print(\"After Upper:\", c)"
   ]
  },
  {
   "cell_type": "code",
   "execution_count": 84,
   "id": "b9b64d11",
   "metadata": {},
   "outputs": [
    {
     "data": {
      "text/plain": [
       "'Janet Jackson is the best'"
      ]
     },
     "execution_count": 84,
     "metadata": {},
     "output_type": "execute_result"
    }
   ],
   "source": [
    "a = \"Michael Jackson is the best\"\n",
    "b = a.replace('Michael', 'Janet')\n",
    "b"
   ]
  },
  {
   "cell_type": "code",
   "execution_count": 87,
   "id": "42dd48f2",
   "metadata": {},
   "outputs": [
    {
     "data": {
      "text/plain": [
       "'Learning Python Pray This Doesnt Take Too Long'"
      ]
     },
     "execution_count": 87,
     "metadata": {},
     "output_type": "execute_result"
    }
   ],
   "source": [
    "f = \"Learning Python Hope This Doesnt Take Too Long\"\n",
    "g = f.replace('Hope','Pray')\n",
    "g"
   ]
  },
  {
   "cell_type": "code",
   "execution_count": 88,
   "id": "6a2dc32f",
   "metadata": {},
   "outputs": [],
   "source": [
    "#use the find feature to search a string\n",
    "my_string = \"This is a string I created to use as an example of how to search\""
   ]
  },
  {
   "cell_type": "code",
   "execution_count": 90,
   "id": "b8b19ef2",
   "metadata": {},
   "outputs": [
    {
     "data": {
      "text/plain": [
       "30"
      ]
     },
     "execution_count": 90,
     "metadata": {},
     "output_type": "execute_result"
    }
   ],
   "source": [
    "my_string.find(\"use\")"
   ]
  },
  {
   "cell_type": "code",
   "execution_count": 91,
   "id": "57fe558e",
   "metadata": {},
   "outputs": [
    {
     "data": {
      "text/plain": [
       "-1"
      ]
     },
     "execution_count": 91,
     "metadata": {},
     "output_type": "execute_result"
    }
   ],
   "source": [
    "#show example of what appears if substring does not appear in string\n",
    "my_string.find(\"z\")"
   ]
  },
  {
   "cell_type": "code",
   "execution_count": 101,
   "id": "6cb7bb39",
   "metadata": {},
   "outputs": [
    {
     "data": {
      "text/plain": [
       "25.2"
      ]
     },
     "execution_count": 101,
     "metadata": {},
     "output_type": "execute_result"
    }
   ],
   "source": [
    "#example of utilizing _ to continue calculation. _ assigns variable of last printed expression\n",
    "5 *3+(4 +6.2)"
   ]
  },
  {
   "cell_type": "code",
   "execution_count": 103,
   "id": "8c7f4b8e",
   "metadata": {},
   "outputs": [
    {
     "data": {
      "text/plain": [
       "27.2"
      ]
     },
     "execution_count": 103,
     "metadata": {},
     "output_type": "execute_result"
    }
   ],
   "source": [
    "_ + 2"
   ]
  },
  {
   "cell_type": "code",
   "execution_count": 104,
   "id": "c84c363c",
   "metadata": {},
   "outputs": [
    {
     "data": {
      "text/plain": [
       "11.375"
      ]
     },
     "execution_count": 104,
     "metadata": {},
     "output_type": "execute_result"
    }
   ],
   "source": [
    "tax = 6.5/100\n",
    "price = 175\n",
    "price * tax"
   ]
  },
  {
   "cell_type": "code",
   "execution_count": 105,
   "id": "7d8079ea",
   "metadata": {},
   "outputs": [
    {
     "data": {
      "text/plain": [
       "11.38"
      ]
     },
     "execution_count": 105,
     "metadata": {},
     "output_type": "execute_result"
    }
   ],
   "source": [
    "round(_, 2)"
   ]
  },
  {
   "cell_type": "code",
   "execution_count": 106,
   "id": "f13606ba",
   "metadata": {},
   "outputs": [
    {
     "data": {
      "text/plain": [
       "[10.2, 'This List', 4, 4, 7.8]"
      ]
     },
     "execution_count": 106,
     "metadata": {},
     "output_type": "execute_result"
    }
   ],
   "source": [
    "#create a list with a combo if int, float, str\n",
    "t = [10.2, \"This List\", 4, 4, 7.8]\n",
    "t"
   ]
  },
  {
   "cell_type": "code",
   "execution_count": 107,
   "id": "13b0be76",
   "metadata": {},
   "outputs": [
    {
     "data": {
      "text/plain": [
       "5"
      ]
     },
     "execution_count": 107,
     "metadata": {},
     "output_type": "execute_result"
    }
   ],
   "source": [
    "len(t)"
   ]
  },
  {
   "cell_type": "code",
   "execution_count": 108,
   "id": "661b35a6",
   "metadata": {},
   "outputs": [
    {
     "data": {
      "text/plain": [
       "4"
      ]
     },
     "execution_count": 108,
     "metadata": {},
     "output_type": "execute_result"
    }
   ],
   "source": [
    "t[3]"
   ]
  },
  {
   "cell_type": "code",
   "execution_count": 109,
   "id": "3601dfc3",
   "metadata": {},
   "outputs": [
    {
     "data": {
      "text/plain": [
       "['This List', 4, 4]"
      ]
     },
     "execution_count": 109,
     "metadata": {},
     "output_type": "execute_result"
    }
   ],
   "source": [
    "t[1:4]"
   ]
  },
  {
   "cell_type": "code",
   "execution_count": 117,
   "id": "cd6f9931",
   "metadata": {},
   "outputs": [
    {
     "data": {
      "text/plain": [
       "'This List'"
      ]
     },
     "execution_count": 117,
     "metadata": {},
     "output_type": "execute_result"
    }
   ],
   "source": [
    "#show example of positive and negative indexing of list\n",
    "t[-4]"
   ]
  },
  {
   "cell_type": "code",
   "execution_count": 118,
   "id": "17aa5548",
   "metadata": {},
   "outputs": [
    {
     "data": {
      "text/plain": [
       "7.8"
      ]
     },
     "execution_count": 118,
     "metadata": {},
     "output_type": "execute_result"
    }
   ],
   "source": [
    "t[4]"
   ]
  },
  {
   "cell_type": "code",
   "execution_count": 119,
   "id": "60c3fc35",
   "metadata": {},
   "outputs": [],
   "source": [
    "#show an example of nesting a list w/in a list\n",
    "nest = [a, b, 8.2, [5, \"Sublist\"],\"Main List\"]"
   ]
  },
  {
   "cell_type": "code",
   "execution_count": 120,
   "id": "dc079699",
   "metadata": {},
   "outputs": [
    {
     "name": "stdout",
     "output_type": "stream",
     "text": [
      "['Michael Jackson is the best', 'Janet Jackson is the best', 8.2, [5, 'Sublist'], 'Main List']\n"
     ]
    }
   ],
   "source": [
    "print(nest)"
   ]
  },
  {
   "cell_type": "code",
   "execution_count": 126,
   "id": "6b7b627c",
   "metadata": {},
   "outputs": [],
   "source": [
    "nest.extend([\"add to the list\",\"and this too\"])"
   ]
  },
  {
   "cell_type": "code",
   "execution_count": 127,
   "id": "a681416f",
   "metadata": {},
   "outputs": [
    {
     "name": "stdout",
     "output_type": "stream",
     "text": [
      "['Michael Jackson is the best', 'Janet Jackson is the best', 8.2, [5, 'Sublist'], 'Main List', 'add to the list', 'and this too', 'add to the list', 'and this too']\n"
     ]
    }
   ],
   "source": [
    "print(nest)"
   ]
  },
  {
   "cell_type": "code",
   "execution_count": 131,
   "id": "9ee810f0",
   "metadata": {},
   "outputs": [
    {
     "data": {
      "text/plain": [
       "['Michael Jackson is the best',\n",
       " 8.2,\n",
       " [5, 'Sublist'],\n",
       " 'Main List',\n",
       " 'add to the list',\n",
       " 'and this too',\n",
       " 'add to the list',\n",
       " 'and this too']"
      ]
     },
     "execution_count": 131,
     "metadata": {},
     "output_type": "execute_result"
    }
   ],
   "source": [
    "#delete item from list, this deletes by index position\n",
    "del (nest[1])\n",
    "nest"
   ]
  },
  {
   "cell_type": "code",
   "execution_count": 132,
   "id": "c8c2dc0a",
   "metadata": {},
   "outputs": [
    {
     "name": "stdout",
     "output_type": "stream",
     "text": [
      "10.2\n"
     ]
    }
   ],
   "source": [
    "#create a tuple and sort by index position\n",
    "tup = (10.2, \"My Tuple 2\", 9, \"9\")\n",
    "print(tup[0])"
   ]
  },
  {
   "cell_type": "code",
   "execution_count": 134,
   "id": "03ea2402",
   "metadata": {},
   "outputs": [
    {
     "name": "stdout",
     "output_type": "stream",
     "text": [
      "9\n"
     ]
    }
   ],
   "source": [
    "print(tup[3])"
   ]
  },
  {
   "cell_type": "code",
   "execution_count": 135,
   "id": "7fa74a23",
   "metadata": {},
   "outputs": [
    {
     "data": {
      "text/plain": [
       "str"
      ]
     },
     "execution_count": 135,
     "metadata": {},
     "output_type": "execute_result"
    }
   ],
   "source": [
    "#display type of \"9\" in tuple versus 9\n",
    "type(tup[3])"
   ]
  },
  {
   "cell_type": "code",
   "execution_count": 136,
   "id": "1b83e08f",
   "metadata": {},
   "outputs": [
    {
     "data": {
      "text/plain": [
       "int"
      ]
     },
     "execution_count": 136,
     "metadata": {},
     "output_type": "execute_result"
    }
   ],
   "source": [
    "type(tup[2])"
   ]
  },
  {
   "cell_type": "code",
   "execution_count": 137,
   "id": "23f27d09",
   "metadata": {},
   "outputs": [
    {
     "data": {
      "text/plain": [
       "float"
      ]
     },
     "execution_count": 137,
     "metadata": {},
     "output_type": "execute_result"
    }
   ],
   "source": [
    "#a tuple can contain strings, integers and floats\n",
    "type(tup[0])"
   ]
  },
  {
   "cell_type": "code",
   "execution_count": 139,
   "id": "ece0bdb2",
   "metadata": {},
   "outputs": [
    {
     "data": {
      "text/plain": [
       "(10, 5, 1, 7, 3, 9, 9, 1, 0, 4, 7)"
      ]
     },
     "execution_count": 139,
     "metadata": {},
     "output_type": "execute_result"
    }
   ],
   "source": [
    "new_tup = (10, 5, 1, 7, 3, 9, 9, 1, 0, 4, 7)\n",
    "new_tup"
   ]
  },
  {
   "cell_type": "code",
   "execution_count": 140,
   "id": "fbe353e7",
   "metadata": {},
   "outputs": [
    {
     "data": {
      "text/plain": [
       "[0, 1, 1, 3, 4, 5, 7, 7, 9, 9, 10]"
      ]
     },
     "execution_count": 140,
     "metadata": {},
     "output_type": "execute_result"
    }
   ],
   "source": [
    "sorted(new_tup)"
   ]
  },
  {
   "cell_type": "code",
   "execution_count": 141,
   "id": "8ad144f0",
   "metadata": {},
   "outputs": [
    {
     "data": {
      "text/plain": [
       "[0, 1, 1, 3, 4, 5, 7, 7, 9, 9, 10]"
      ]
     },
     "execution_count": 141,
     "metadata": {},
     "output_type": "execute_result"
    }
   ],
   "source": [
    "#create a new tuple of the sorted tuple\n",
    "sort_tup = sorted(new_tup)\n",
    "sort_tup"
   ]
  },
  {
   "cell_type": "code",
   "execution_count": 144,
   "id": "2d8d865e",
   "metadata": {},
   "outputs": [
    {
     "data": {
      "text/plain": [
       "(10, 8, 4, ('Nest 1', 2.1, '3'), 'Base Tuple 2', 10.9)"
      ]
     },
     "execution_count": 144,
     "metadata": {},
     "output_type": "execute_result"
    }
   ],
   "source": [
    "#demonstrate a nested tuple\n",
    "nest_tup = (10, 8, 4, (\"Nest 1\", 2.1, \"3\"),\"Base Tuple 2\", 10.9)\n",
    "nest_tup"
   ]
  },
  {
   "cell_type": "code",
   "execution_count": 148,
   "id": "f4611c13",
   "metadata": {},
   "outputs": [
    {
     "name": "stdout",
     "output_type": "stream",
     "text": [
      "(10, 8, 4, ('Nest 1', 2.1, '3'), 'Base Tuple 2', 10.9)\n"
     ]
    }
   ],
   "source": [
    "print(nest_tup)"
   ]
  },
  {
   "cell_type": "code",
   "execution_count": 149,
   "id": "ecfa2d27",
   "metadata": {},
   "outputs": [
    {
     "name": "stdout",
     "output_type": "stream",
     "text": [
      "Index Position 0: 10\n",
      "Index Position 1: 8\n",
      "Index Position 2: 4\n",
      "Index Position 3: ('Nest 1', 2.1, '3')\n",
      "Index Position 4: Base Tuple 2\n",
      "Index Position 5: 10.9\n"
     ]
    }
   ],
   "source": [
    "#demonstrate indexing \n",
    "print(\"Index Position 0:\",nest_tup[0])\n",
    "print(\"Index Position 1:\",nest_tup[1])\n",
    "print(\"Index Position 2:\",nest_tup[2])\n",
    "print(\"Index Position 3:\",nest_tup[3])\n",
    "print(\"Index Position 4:\",nest_tup[4])\n",
    "print(\"Index Position 5:\",nest_tup[5])"
   ]
  },
  {
   "cell_type": "code",
   "execution_count": 152,
   "id": "8841e9c4",
   "metadata": {},
   "outputs": [
    {
     "name": "stdout",
     "output_type": "stream",
     "text": [
      "Nested Index 0: Nest 1\n",
      "Nested Index 1: 2.1\n",
      "Nested Index 2: 3\n"
     ]
    }
   ],
   "source": [
    "#demonstrate printing by nest index\n",
    "print('Nested Index 0:', nest_tup[3][0])\n",
    "print('Nested Index 1:', nest_tup[3][1])\n",
    "print('Nested Index 2:', nest_tup[3][2])"
   ]
  },
  {
   "cell_type": "code",
   "execution_count": 153,
   "id": "288a067c",
   "metadata": {},
   "outputs": [
    {
     "data": {
      "text/plain": [
       "str"
      ]
     },
     "execution_count": 153,
     "metadata": {},
     "output_type": "execute_result"
    }
   ],
   "source": [
    "type(nest_tup[3][0])"
   ]
  },
  {
   "cell_type": "code",
   "execution_count": 157,
   "id": "3d520ffc",
   "metadata": {},
   "outputs": [
    {
     "data": {
      "text/plain": [
       "4"
      ]
     },
     "execution_count": 157,
     "metadata": {},
     "output_type": "execute_result"
    }
   ],
   "source": [
    "#find the position of an index in a tuple\n",
    "nest_tup.index('Base Tuple 2')"
   ]
  },
  {
   "cell_type": "code",
   "execution_count": 155,
   "id": "f8794901",
   "metadata": {},
   "outputs": [
    {
     "data": {
      "text/plain": [
       "tuple"
      ]
     },
     "execution_count": 155,
     "metadata": {},
     "output_type": "execute_result"
    }
   ],
   "source": [
    "type(nest_tup)"
   ]
  },
  {
   "cell_type": "code",
   "execution_count": 160,
   "id": "df129214",
   "metadata": {},
   "outputs": [
    {
     "name": "stdout",
     "output_type": "stream",
     "text": [
      "At Least Its Not 20 Years Old, Dude!\n",
      "Its still nice\n"
     ]
    }
   ],
   "source": [
    "#display an example of using an if statement\n",
    "year = 2007\n",
    "if year > 2004:\n",
    "    print(\"At Least Its Not 20 Years Old, Dude!\")\n",
    "print(\"Its still nice\")"
   ]
  },
  {
   "cell_type": "code",
   "execution_count": 168,
   "id": "956f764c",
   "metadata": {},
   "outputs": [
    {
     "name": "stdout",
     "output_type": "stream",
     "text": [
      "Sorry Bro!\n"
     ]
    }
   ],
   "source": [
    "age = 16\n",
    "if age >= 18:\n",
    "    print(\"You can enter\")\n",
    "else:\n",
    "    print(\"Sorry Bro!\")"
   ]
  },
  {
   "cell_type": "code",
   "execution_count": 170,
   "id": "516e2b18",
   "metadata": {},
   "outputs": [
    {
     "name": "stdout",
     "output_type": "stream",
     "text": [
      "You can go to the teen area.\n",
      "Welcome in?\n"
     ]
    }
   ],
   "source": [
    "#example of using if, else, elif statements\n",
    "age = 13\n",
    "\n",
    "if age <= 0:\n",
    "    print(\"You are too young to enter any area.\")\n",
    "elif age <= 12:\n",
    "    print(\"You can go to the kids area.\")\n",
    "elif age <= 18:\n",
    "    print(\"You can go to the teen area.\")\n",
    "else:\n",
    "    print(\"You can enter the adult area.\")\n",
    "\n",
    "print(\"Welcome in?\")"
   ]
  },
  {
   "cell_type": "code",
   "execution_count": 178,
   "id": "6f828954",
   "metadata": {},
   "outputs": [
    {
     "name": "stdout",
     "output_type": "stream",
     "text": [
      "we have a kids show!\n"
     ]
    }
   ],
   "source": [
    "#demonstrate and statement\n",
    "\n",
    "age = 0\n",
    "\n",
    "if age >=0 and age <=18:\n",
    "    print(\"we have a kids show!\")\n",
    "elif age >=19 and age <=65:\n",
    "    print(\"we have an adult show!\")\n",
    "elif age >=66:\n",
    "    print(\"we have a seniors show\")"
   ]
  },
  {
   "cell_type": "code",
   "execution_count": 182,
   "id": "ed5e7171",
   "metadata": {},
   "outputs": [],
   "source": [
    "from statistics import mean"
   ]
  },
  {
   "cell_type": "code",
   "execution_count": 185,
   "id": "0ad60ebe",
   "metadata": {},
   "outputs": [],
   "source": [
    "#demonstrate using a loop to change a list\n",
    "list_a = [7, 3, 1, 4, 6, 7]\n",
    "\n",
    "mean_list = mean(list_a)\n",
    "\n",
    "for i in range(len(list_a)):\n",
    "    list_a[i] = mean_list\n"
   ]
  },
  {
   "cell_type": "code",
   "execution_count": 186,
   "id": "fc12d374",
   "metadata": {},
   "outputs": [
    {
     "name": "stdout",
     "output_type": "stream",
     "text": [
      "4.666666666666667\n"
     ]
    }
   ],
   "source": [
    "print(mean_list)"
   ]
  },
  {
   "cell_type": "code",
   "execution_count": 187,
   "id": "95ad8e73",
   "metadata": {},
   "outputs": [
    {
     "name": "stdout",
     "output_type": "stream",
     "text": [
      "[4.666666666666667, 4.666666666666667, 4.666666666666667, 4.666666666666667, 4.666666666666667, 4.666666666666667]\n"
     ]
    }
   ],
   "source": [
    "print(list_a)"
   ]
  },
  {
   "cell_type": "code",
   "execution_count": 188,
   "id": "0256c5d9",
   "metadata": {},
   "outputs": [],
   "source": [
    "#PRACTICE, Write a code which will calculate a total bill for your lunch based upon the items you order\n",
    "lunch_menu = ['Burger','Club','BLT','SALAD','SODA','WATER']"
   ]
  },
  {
   "cell_type": "code",
   "execution_count": 191,
   "id": "c6d789a7",
   "metadata": {},
   "outputs": [],
   "source": [
    "menu_price = { 'Burger': 12.75,\n",
    "              'Club' : 11.00,\n",
    "              'BLT' : 11.50,\n",
    "              'SALAD' : 10.75,\n",
    "              'SODA' : 4.00,\n",
    "              'WATER' : 0,\n",
    "             }\n"
   ]
  },
  {
   "cell_type": "code",
   "execution_count": 203,
   "id": "b380e53d",
   "metadata": {},
   "outputs": [
    {
     "name": "stdout",
     "output_type": "stream",
     "text": [
      "This is your order total 39.75\n",
      "Tax 2.7825\n",
      "Total with Tax 42.5325\n"
     ]
    }
   ],
   "source": [
    "order = ('Burger', 'BLT', 'BLT', 'SODA', 'WATER')\n",
    "tax =  .07\n",
    "order_total = sum(menu_price[item] for item in order)\n",
    "order_total_tax = order_total * tax\n",
    "Final_w_tax = order_total +order_total_tax\n",
    "print(\"This is your order total\", order_total)\n",
    "print(\"Tax\", order_total_tax)\n",
    "print(\"Total with Tax\", Final_w_tax)"
   ]
  },
  {
   "cell_type": "code",
   "execution_count": 197,
   "id": "50c633df",
   "metadata": {},
   "outputs": [
    {
     "name": "stdout",
     "output_type": "stream",
     "text": [
      "1920\n",
      "1930\n",
      "1940\n",
      "1950\n",
      "1960\n",
      "1970\n"
     ]
    }
   ],
   "source": [
    "#demonstrate a loop\n",
    "years = [1920, 1930, 1940, 1950, 1960, 1970]\n",
    "n = len(years)\n",
    "\n",
    "for i in range(n):\n",
    "    print(years[i])"
   ]
  },
  {
   "cell_type": "code",
   "execution_count": 214,
   "id": "ea61f539",
   "metadata": {},
   "outputs": [
    {
     "name": "stdout",
     "output_type": "stream",
     "text": [
      "This is your order total 25.5\n",
      "This is your tax 1.7850000000000001\n",
      "This is your total due 27.285\n"
     ]
    }
   ],
   "source": [
    "#item is a variable that takes on the values from the order tuple. In this case, it's used as a loop variable to iterate over the items in the order tuple.\n",
    "#for item in order is a generator expression. It iterates over each item in the order tuple one by one.\n",
    "\n",
    "new_order = ('SALAD','SALAD','WATER','WATER','SODA')\n",
    "no_total = sum(menu_price[item] for item in new_order)\n",
    "tax = no_total * .07\n",
    "no_total_tax = no_total + tax\n",
    "print(\"This is your order total\", no_total)\n",
    "print(\"This is your tax\", tax)\n",
    "print(\"This is your total due\", no_total_tax)"
   ]
  },
  {
   "cell_type": "code",
   "execution_count": 209,
   "id": "9668c66c",
   "metadata": {},
   "outputs": [],
   "source": [
    "#Create a tools list of 6 different tools and create a dictionary for the tool prices. \n",
    "#Then code a program that will give a total with 7% sales tax\n",
    "\n",
    "tools = ['HAMMER','AXE','WRENCH','HOSE','PLIERS','SAW']\n",
    "tool_prices = {'HAMMER': 15.00,\n",
    "           'AXE': 20.00,\n",
    "           'WRENCH': 10.00,\n",
    "           'HOSE': 22.00,\n",
    "           'PLIERS': 18.00,\n",
    "           'SAW': 25.00}\n"
   ]
  },
  {
   "cell_type": "code",
   "execution_count": 215,
   "id": "9a752c4c",
   "metadata": {},
   "outputs": [
    {
     "name": "stdout",
     "output_type": "stream",
     "text": [
      "This is your order total 115.0\n",
      "This is your tax due 8.05\n",
      "This is your total w/ tax 123.05\n"
     ]
    }
   ],
   "source": [
    "purch = ['HAMMER','HAMMER','AXE','HOSE','PLIERS','SAW']\n",
    "purch_total = sum(tool_prices[item] for item in purch)\n",
    "tax = purch_total * .07\n",
    "purch_total_tax = purch_total + tax\n",
    "print('This is your order total', purch_total)\n",
    "print('This is your tax due', tax)\n",
    "print('This is your total w/ tax', purch_total_tax)"
   ]
  },
  {
   "cell_type": "code",
   "execution_count": 217,
   "id": "250b40e7",
   "metadata": {},
   "outputs": [
    {
     "name": "stdout",
     "output_type": "stream",
     "text": [
      "This is your total 901.25\n",
      "This is your tax 63.087500000000006\n",
      "This is your total w/ tax 964.3375\n"
     ]
    }
   ],
   "source": [
    "parts = ['BOLT', 'GEAR', 'CIRCUIT BOARD', 'SPRING', 'O-RING', 'VALVE', 'MOTOR', 'LED BULB']\n",
    "p_price = {'BOLT': 2.00,\n",
    "           'GEAR': 55.00, \n",
    "           'CIRCUIT BOARD': 125.00,\n",
    "           'SPRING':1.50,\n",
    "           'O-RING': 4.75,\n",
    "           'VALVE': 6.00,\n",
    "           'MOTOR': 695.00, \n",
    "           'LED BULB': 12.00}\n",
    "total = sum(p_price[item] for item in parts)\n",
    "tax = total *.07\n",
    "total_w_tax = total + tax\n",
    "print('This is your total', total)\n",
    "print('This is your tax', tax)\n",
    "print('This is your total w/ tax', total_w_tax)"
   ]
  },
  {
   "cell_type": "code",
   "execution_count": 225,
   "id": "8f8e0bbd",
   "metadata": {},
   "outputs": [
    {
     "name": "stdout",
     "output_type": "stream",
     "text": [
      "This is your total $6735.00\n",
      "This is your tax $471.45\n",
      "This is your total w/ tax $ 7206.45\n"
     ]
    }
   ],
   "source": [
    "band_eq = ['VIOLIN', 'TRUMPET', 'PIANO', 'DRUMS', 'FLUTE']\n",
    "eq_cost = {'VIOLIN': 1200.00,\n",
    "           'TRUMPET': 995.00,\n",
    "           'PIANO':2250.00,\n",
    "           'DRUMS':895.00,\n",
    "           'FLUTE': 1395.00}\n",
    "total_eq = sum(eq_cost[item] for item in band_eq)\n",
    "tax = total_eq *.07\n",
    "total_eq_tax = total_eq + tax\n",
    "print('This is your total ${:.2f}'.format(total_eq))\n",
    "print('This is your tax ${:.2f}'.format(tax))\n",
    "print('This is your total w/ tax $', total_eq_tax)"
   ]
  },
  {
   "cell_type": "code",
   "execution_count": 228,
   "id": "2d2e3c01",
   "metadata": {},
   "outputs": [
    {
     "name": "stdout",
     "output_type": "stream",
     "text": [
      "This is iteration 0\n",
      "This is iteration 1\n",
      "This is iteration 2\n",
      "This is iteration 3\n",
      "This is iteration 4\n",
      "This is iteration 5\n"
     ]
    }
   ],
   "source": [
    "for i in range(6):\n",
    "    print('This is iteration', i)"
   ]
  },
  {
   "cell_type": "code",
   "execution_count": 230,
   "id": "4a56cb95",
   "metadata": {},
   "outputs": [
    {
     "name": "stdout",
     "output_type": "stream",
     "text": [
      "Here is letter A\n",
      "Here is letter B\n",
      "Here is letter C\n",
      "Here is letter D\n",
      "Here is letter E\n",
      "Here is letter F\n"
     ]
    }
   ],
   "source": [
    "#iterating over a list\n",
    "list_c = ['A','B','C','D','E','F']\n",
    "for letters in list_c:\n",
    "    print('Here is letter', letters)\n",
    "\n"
   ]
  },
  {
   "cell_type": "code",
   "execution_count": 232,
   "id": "f5958d4d",
   "metadata": {},
   "outputs": [
    {
     "name": "stdout",
     "output_type": "stream",
     "text": [
      "VIOLIN\n",
      "TRUMPET\n",
      "PIANO\n",
      "DRUMS\n",
      "FLUTE\n"
     ]
    }
   ],
   "source": [
    "band_eq = ['VIOLIN', 'TRUMPET', 'PIANO', 'DRUMS', 'FLUTE']\n",
    "for instruments in band_eq:\n",
    "    print(instruments)"
   ]
  },
  {
   "cell_type": "code",
   "execution_count": 233,
   "id": "c4feeac3",
   "metadata": {},
   "outputs": [
    {
     "name": "stdout",
     "output_type": "stream",
     "text": [
      "BOLT\n",
      "GEAR\n",
      "CIRCUIT BOARD\n",
      "SPRING\n",
      "O-RING\n",
      "VALVE\n",
      "MOTOR\n",
      "LED BULB\n"
     ]
    }
   ],
   "source": [
    "parts = ['BOLT', 'GEAR', 'CIRCUIT BOARD', 'SPRING', 'O-RING', 'VALVE', 'MOTOR', 'LED BULB']\n",
    "for part in parts:\n",
    "    print(part)"
   ]
  },
  {
   "cell_type": "code",
   "execution_count": 234,
   "id": "a45dc6cc",
   "metadata": {},
   "outputs": [
    {
     "name": "stdout",
     "output_type": "stream",
     "text": [
      "Square of 1 is 1\n",
      "Square of 2 is 4\n",
      "Square of 3 is 9\n",
      "Square of 4 is 16\n",
      "Square of 5 is 25\n"
     ]
    }
   ],
   "source": [
    "for num in range(1, 6):\n",
    "    print(\"Square of\", num, \"is\", num * num)"
   ]
  },
  {
   "cell_type": "code",
   "execution_count": 235,
   "id": "4d44483e",
   "metadata": {},
   "outputs": [
    {
     "name": "stdout",
     "output_type": "stream",
     "text": [
      "-9\n",
      "-8\n",
      "-7\n",
      "-6\n",
      "-5\n",
      "-4\n",
      "-3\n",
      "-2\n",
      "-1\n",
      "0\n",
      "1\n",
      "2\n",
      "3\n",
      "4\n",
      "5\n",
      "6\n",
      "7\n",
      "8\n"
     ]
    }
   ],
   "source": [
    "for num in range(-9,9):\n",
    "    print(num)"
   ]
  },
  {
   "cell_type": "code",
   "execution_count": 236,
   "id": "b580ff76",
   "metadata": {},
   "outputs": [
    {
     "name": "stdout",
     "output_type": "stream",
     "text": [
      "Letter: P\n",
      "Letter: y\n",
      "Letter: t\n",
      "Letter: h\n",
      "Letter: o\n",
      "Letter: n\n"
     ]
    }
   ],
   "source": [
    "#iterating over a string\n",
    "word = \"Python\"\n",
    "for letter in word:\n",
    "    print(\"Letter:\", letter)"
   ]
  },
  {
   "cell_type": "code",
   "execution_count": 240,
   "id": "a4ff653c",
   "metadata": {},
   "outputs": [
    {
     "name": "stdout",
     "output_type": "stream",
     "text": [
      "S\n",
      "e\n",
      "l\n",
      "e\n",
      "c\n",
      "t\n",
      "i\n",
      "n\n",
      "g\n",
      " \n",
      "e\n",
      "v\n",
      "e\n",
      "r\n",
      "y\n",
      " \n",
      "o\n",
      "t\n",
      "h\n",
      "e\n",
      "r\n",
      " \n",
      "l\n",
      "e\n",
      "t\n",
      "t\n",
      "e\n",
      "r\n",
      " \n",
      "f\n",
      "r\n",
      "o\n",
      "m\n",
      " \n",
      "a\n",
      " \n",
      "w\n",
      "o\n",
      "r\n",
      "d\n",
      " \n",
      "w\n",
      "i\n",
      "l\n",
      "l\n",
      " \n",
      "r\n",
      "e\n",
      "s\n",
      "u\n",
      "l\n",
      "t\n",
      " \n",
      "i\n",
      "n\n",
      " \n",
      "a\n",
      " \n",
      "s\n",
      "h\n",
      "o\n",
      "r\n",
      "t\n",
      "e\n",
      "r\n",
      " \n",
      "v\n",
      "e\n",
      "r\n",
      "s\n",
      "i\n",
      "o\n",
      "n\n",
      " \n",
      "o\n",
      "f\n",
      " \n",
      "t\n",
      "h\n",
      "e\n",
      " \n",
      "w\n",
      "o\n",
      "r\n",
      "d\n",
      ".\n"
     ]
    }
   ],
   "source": [
    "string = \"Selecting every other letter from a word will result in a shorter version of the word.\"\n",
    "for letters in string:\n",
    "    print(letters[::2])"
   ]
  },
  {
   "cell_type": "code",
   "execution_count": 241,
   "id": "6a30e507",
   "metadata": {},
   "outputs": [
    {
     "name": "stdout",
     "output_type": "stream",
     "text": [
      "i: 0 j: 0\n",
      "i: 0 j: 1\n",
      "i: 1 j: 0\n",
      "i: 1 j: 1\n",
      "i: 2 j: 0\n",
      "i: 2 j: 1\n"
     ]
    }
   ],
   "source": [
    "#nested for loops\n",
    "for i in range(3):\n",
    "    for j in range(2):\n",
    "        print(\"i:\", i, \"j:\", j)"
   ]
  },
  {
   "cell_type": "code",
   "execution_count": 248,
   "id": "0765647c",
   "metadata": {},
   "outputs": [
    {
     "name": "stdout",
     "output_type": "stream",
     "text": [
      "VIOLIN 1200.0\n",
      "TRUMPET 995.0\n",
      "PIANO 2250.0\n",
      "DRUMS 895.0\n",
      "FLUTE 1395.0\n"
     ]
    }
   ],
   "source": [
    "band_eq = ['VIOLIN', 'TRUMPET', 'PIANO', 'DRUMS', 'FLUTE']\n",
    "eq_cost = {'VIOLIN': 1200.00,\n",
    "           'TRUMPET': 995.00,\n",
    "           'PIANO':2250.00,\n",
    "           'DRUMS':895.00,\n",
    "           'FLUTE': 1395.00}\n",
    "for instrument in band_eq:\n",
    "    cost = eq_cost.get(instrument)\n",
    "    print(instrument, cost)"
   ]
  },
  {
   "cell_type": "code",
   "execution_count": 255,
   "id": "0ed32ac7",
   "metadata": {},
   "outputs": [
    {
     "name": "stdout",
     "output_type": "stream",
     "text": [
      "HELMET 150.0\n",
      "FOOTBALL 40.0\n",
      "CLEATS 120.0\n",
      "SHOULDERPADS 90.0\n",
      "MOUTHGUARD 15.0\n"
     ]
    }
   ],
   "source": [
    "#create a list, create a corresponding dictionary and the iterate through the list and print the list and corresponding cost\n",
    "fb_eq = ['HELMET','FOOTBALL','CLEATS','SHOULDERPADS','MOUTHGUARD']\n",
    "cost_fb_eq = {'HELMET': 150.00,\n",
    "              'FOOTBALL': 40.00,\n",
    "              'CLEATS': 120.00,\n",
    "              'SHOULDERPADS': 90.00,\n",
    "              'MOUTHGUARD':15.00}\n",
    "for equipment in fb_eq:\n",
    "    cost = cost_fb_eq.get(equipment)\n",
    "    print(equipment, cost)"
   ]
  },
  {
   "cell_type": "code",
   "execution_count": 258,
   "id": "f5707c8b",
   "metadata": {},
   "outputs": [
    {
     "name": "stdout",
     "output_type": "stream",
     "text": [
      "BOLT\n",
      "GEAR\n",
      "CIRCUIT BOARD\n",
      "SPRING\n",
      "O-RING\n",
      "VALVE\n",
      "MOTOR\n",
      "LED BULB\n"
     ]
    }
   ],
   "source": [
    "parts = ['BOLT', 'GEAR', 'CIRCUIT BOARD', 'SPRING', 'O-RING', 'VALVE', 'MOTOR', 'LED BULB']\n",
    "n = len(parts)\n",
    "\n",
    "for i in range(n):\n",
    "    print(parts[i])"
   ]
  },
  {
   "cell_type": "code",
   "execution_count": null,
   "id": "ed57ba03",
   "metadata": {},
   "outputs": [],
   "source": []
  }
 ],
 "metadata": {
  "kernelspec": {
   "display_name": "Python 3 (ipykernel)",
   "language": "python",
   "name": "python3"
  },
  "language_info": {
   "codemirror_mode": {
    "name": "ipython",
    "version": 3
   },
   "file_extension": ".py",
   "mimetype": "text/x-python",
   "name": "python",
   "nbconvert_exporter": "python",
   "pygments_lexer": "ipython3",
   "version": "3.11.3"
  }
 },
 "nbformat": 4,
 "nbformat_minor": 5
}
